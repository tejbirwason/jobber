{
 "cells": [
  {
   "cell_type": "code",
   "execution_count": 1,
   "metadata": {},
   "outputs": [
    {
     "name": "stderr",
     "output_type": "stream",
     "text": [
      "2024-07-30 22:03:24,224 - JobSpy - INFO - Indeed search page: 1\n",
      "2024-07-30 22:03:24,225 - JobSpy - INFO - LinkedIn search page: 1\n",
      "2024-07-30 22:03:24,529 - JobSpy - INFO - ZipRecruiter search page: 1\n",
      "2024-07-30 22:03:25,437 - JobSpy - INFO - Indeed finished scraping\n",
      "2024-07-30 22:03:26,016 - JobSpy - INFO - ZipRecruiter finished scraping\n",
      "2024-07-30 22:03:26,856 - JobSpy - INFO - Glassdoor search page: 1\n",
      "2024-07-30 22:03:27,998 - JobSpy - INFO - Glassdoor finished scraping\n",
      "2024-07-30 22:03:28,546 - JobSpy - INFO - LinkedIn search page: 2\n",
      "2024-07-30 22:03:33,658 - JobSpy - INFO - LinkedIn search page: 3\n",
      "2024-07-30 22:03:34,352 - JobSpy - INFO - Linkedin finished scraping\n"
     ]
    },
    {
     "name": "stdout",
     "output_type": "stream",
     "text": [
      "Found 80 jobs\n",
      "               id       site  \\\n",
      "40  1009386294611  glassdoor   \n",
      "41  1009386077981  glassdoor   \n",
      "42  1009386301376  glassdoor   \n",
      "45  1009385284701  glassdoor   \n",
      "47  1009385977635  glassdoor   \n",
      "\n",
      "                                              job_url job_url_direct  \\\n",
      "40  https://www.glassdoor.com/job-listing/j?jl=100...            NaN   \n",
      "41  https://www.glassdoor.com/job-listing/j?jl=100...            NaN   \n",
      "42  https://www.glassdoor.com/job-listing/j?jl=100...            NaN   \n",
      "45  https://www.glassdoor.com/job-listing/j?jl=100...            NaN   \n",
      "47  https://www.glassdoor.com/job-listing/j?jl=100...            NaN   \n",
      "\n",
      "                                          title            company  \\\n",
      "40    Engineer/Sr Engineer, IT Site Reliability  American Airlines   \n",
      "41                         JAVA REACT DEVELOPER              Cella   \n",
      "42                               DevOps Manager    Intone Networks   \n",
      "45         Software Development Engineer, Woot!       Woot.com LLC   \n",
      "47  Senior Software Engineer - Support Engineer          Capgemini   \n",
      "\n",
      "          location job_type date_posted salary_source  ...  \\\n",
      "40      Dallas, TX      NaN  2024-07-30   direct_data  ...   \n",
      "41       Plano, TX      NaN  2024-07-30   direct_data  ...   \n",
      "42      Irving, TX      NaN  2024-07-30   direct_data  ...   \n",
      "45  Carrollton, TX      NaN  2024-07-30   direct_data  ...   \n",
      "47      Dallas, TX      NaN  2024-07-30   direct_data  ...   \n",
      "\n",
      "                                          company_url  company_url_direct  \\\n",
      "40    https://www.glassdoor.com/Overview/W-EI_IE8.htm                 NaN   \n",
      "41  https://www.glassdoor.com/Overview/W-EI_IE2429...                 NaN   \n",
      "42  https://www.glassdoor.com/Overview/W-EI_IE3753...                 NaN   \n",
      "45  https://www.glassdoor.com/Overview/W-EI_IE6036...                 NaN   \n",
      "47  https://www.glassdoor.com/Overview/W-EI_IE3803...                 NaN   \n",
      "\n",
      "    company_addresses company_num_employees company_revenue  \\\n",
      "40                NaN                   NaN             NaN   \n",
      "41                NaN                   NaN             NaN   \n",
      "42                NaN                   NaN             NaN   \n",
      "45                NaN                   NaN             NaN   \n",
      "47                NaN                   NaN             NaN   \n",
      "\n",
      "   company_description                                     logo_photo_url  \\\n",
      "40                 NaN  https://media.glassdoor.com/sql/8/american-air...   \n",
      "41                 NaN  https://media.glassdoor.com/sql/242941/cella-s...   \n",
      "42                 NaN  https://media.glassdoor.com/sql/375310/intone-...   \n",
      "45                 NaN  https://media.glassdoor.com/sql/6036/amazon-sq...   \n",
      "47                 NaN  https://media.glassdoor.com/sql/3803/capgemini...   \n",
      "\n",
      "   banner_photo_url ceo_name ceo_photo_url  \n",
      "40              NaN      NaN           NaN  \n",
      "41              NaN      NaN           NaN  \n",
      "42              NaN      NaN           NaN  \n",
      "45              NaN      NaN           NaN  \n",
      "47              NaN      NaN           NaN  \n",
      "\n",
      "[5 rows x 31 columns]\n"
     ]
    }
   ],
   "source": [
    "import csv\n",
    "from jobspy import scrape_jobs\n",
    "\n",
    "jobs = scrape_jobs(\n",
    "    site_name=[\"indeed\", \"linkedin\", \"zip_recruiter\", \"glassdoor\"],\n",
    "    search_term=\"software engineer\",\n",
    "    location=\"Dallas, TX\",\n",
    "    results_wanted=20,\n",
    "    hours_old=72, # (only Linkedin/Indeed is hour specific, others round up to days old)\n",
    "    country_indeed='USA',  # only needed for indeed / glassdoor\n",
    "    \n",
    "    # linkedin_fetch_description=True # get full description , direct job url , company industry and job level (seniority level) for linkedin (slower)\n",
    "    # proxies=[\"208.195.175.46:65095\", \"208.195.175.45:65095\", \"localhost\"],\n",
    "    \n",
    ")\n",
    "print(f\"Found {len(jobs)} jobs\")\n",
    "print(jobs.head())\n",
    "jobs.to_csv(\"jobs.csv\", quoting=csv.QUOTE_NONNUMERIC, escapechar=\"\\\\\", index=False) # to_excel"
   ]
  }
 ],
 "metadata": {
  "kernelspec": {
   "display_name": "Python 3",
   "language": "python",
   "name": "python3"
  },
  "language_info": {
   "codemirror_mode": {
    "name": "ipython",
    "version": 3
   },
   "file_extension": ".py",
   "mimetype": "text/x-python",
   "name": "python",
   "nbconvert_exporter": "python",
   "pygments_lexer": "ipython3",
   "version": "3.11.6"
  }
 },
 "nbformat": 4,
 "nbformat_minor": 2
}
